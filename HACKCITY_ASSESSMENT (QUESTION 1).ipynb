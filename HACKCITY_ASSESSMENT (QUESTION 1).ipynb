{
 "cells": [
  {
   "cell_type": "code",
   "execution_count": null,
   "id": "ccef71b2",
   "metadata": {},
   "outputs": [],
   "source": []
  },
  {
   "cell_type": "code",
   "execution_count": null,
   "id": "6babeff7",
   "metadata": {},
   "outputs": [],
   "source": []
  },
  {
   "cell_type": "markdown",
   "id": "cfe05c8c",
   "metadata": {},
   "source": [
    "QUESTION: Given an integer num, return the number of steps to reduce it to zero.\n",
    "\n",
    "In one step, if the current number is even, you have to divide it by 2, otherwise, you have to subtract 1 from it.\n",
    "\n"
   ]
  },
  {
   "cell_type": "code",
   "execution_count": 4,
   "id": "6f6dcbbd",
   "metadata": {},
   "outputs": [],
   "source": [
    "\n",
    "class answer:\n",
    "    def resultStep (self, fig: int) -> int:\n",
    "        result = 0\n",
    "        while fig > 0:\n",
    "            if fig % 2: fig -= 1\n",
    "            else: fig /= 2\n",
    "            ans += 1\n",
    "        return ans"
   ]
  },
  {
   "cell_type": "code",
   "execution_count": null,
   "id": "1c0f386e",
   "metadata": {},
   "outputs": [],
   "source": []
  }
 ],
 "metadata": {
  "kernelspec": {
   "display_name": "Python 3 (ipykernel)",
   "language": "python",
   "name": "python3"
  },
  "language_info": {
   "codemirror_mode": {
    "name": "ipython",
    "version": 3
   },
   "file_extension": ".py",
   "mimetype": "text/x-python",
   "name": "python",
   "nbconvert_exporter": "python",
   "pygments_lexer": "ipython3",
   "version": "3.9.12"
  }
 },
 "nbformat": 4,
 "nbformat_minor": 5
}
